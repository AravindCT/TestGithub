!pip install transformers datasets
!pip install gradio
from datasets import load_dataset, DatasetDict
from transformers import AutoTokenizer, AutoModelForCausalLM, AdamW
from torch.nn import CrossEntropyLoss
from torch.utils.data import DataLoader
from torch.cuda.amp import GradScaler, autocast
import torch
import gradio as gr
